{
  "nbformat": 4,
  "nbformat_minor": 0,
  "metadata": {
    "colab": {
      "provenance": [],
      "gpuType": "T4"
    },
    "kernelspec": {
      "name": "python3",
      "display_name": "Python 3"
    },
    "language_info": {
      "name": "python"
    },
    "accelerator": "GPU",
    "gpuClass": "standard"
  },
  "cells": [
    {
      "cell_type": "markdown",
      "source": [
        "## **Using Transfer learning models**\n",
        "\n",
        "Using Transfer Learning models like VGG16, VGG19, RESNET, INCEPTION and etc..\n",
        "\n",
        "Weights used :- Imagenet"
      ],
      "metadata": {
        "id": "xg5EnS5B2zwu"
      }
    },
    {
      "cell_type": "code",
      "execution_count": 1,
      "metadata": {
        "id": "y6MxZ_YI2k6_"
      },
      "outputs": [],
      "source": [
        "#Import the required modules\n",
        "\n",
        "import pandas as pd\n",
        "import numpy as np\n",
        "\n",
        "import os\n",
        "\n",
        "import matplotlib.pyplot as plt\n",
        "\n",
        "import cv2\n",
        "\n",
        "from keras.models import *\n",
        "from keras.layers import *\n",
        "from sklearn.model_selection import train_test_split"
      ]
    },
    {
      "cell_type": "code",
      "source": [
        "from google.colab import drive\n",
        "drive.mount('/content/drive')"
      ],
      "metadata": {
        "colab": {
          "base_uri": "https://localhost:8080/"
        },
        "id": "_MfLfREz3bQD",
        "outputId": "f9d3da7c-0a4b-457f-b0bb-541ec9a85a7e"
      },
      "execution_count": 2,
      "outputs": [
        {
          "output_type": "stream",
          "name": "stdout",
          "text": [
            "Mounted at /content/drive\n"
          ]
        }
      ]
    },
    {
      "cell_type": "code",
      "source": [
        "!mkdir UTKFace\n",
        "# !unzip -qq /content/UTKFace.tar.gz\n",
        "!tar -xf /content/drive/MyDrive/UTKFace.tar.gz -C UTKFace"
      ],
      "metadata": {
        "id": "UgPZYjgn30zf"
      },
      "execution_count": 3,
      "outputs": []
    },
    {
      "cell_type": "code",
      "source": [
        "path = \"/content/UTKFace/UTKFace\"\n",
        "images=[]\n",
        "age=[]\n",
        "gender=[]"
      ],
      "metadata": {
        "id": "DrFRtoDH4Awb"
      },
      "execution_count": 4,
      "outputs": []
    },
    {
      "cell_type": "code",
      "source": [
        "\n",
        "#Extracting images including ages and genders of each image\n",
        "#Age and Gender are included in image name itself ( \" [age]_[gender]_[race]_[date&time].jpg  \" )\n",
        "#For predicting age and gender we should extract it and append to array.\n",
        "\n",
        "for img in os.listdir(path):\n",
        "  ages = img.split(\"_\")[0]\n",
        "  genders = img.split(\"_\")[1]\n",
        "  img = cv2.imread(str(path)+\"/\"+str(img))\n",
        "  img = cv2.cvtColor(img,cv2.COLOR_BGR2RGB)\n",
        "  img = cv2.resize(img,(144,144))\n",
        "  images.append(np.array(img))\n",
        "  age.append(np.array(ages))\n",
        "  gender.append(np.array(genders))"
      ],
      "metadata": {
        "id": "4s5nSRda4bWq"
      },
      "execution_count": 5,
      "outputs": []
    },
    {
      "cell_type": "code",
      "source": [
        "age = np.array(age,dtype=np.int64)\n",
        "images = np.array(images) \n",
        "gender = np.array(gender,np.uint64)"
      ],
      "metadata": {
        "id": "FMdbNmhE4gEy"
      },
      "execution_count": 6,
      "outputs": []
    },
    {
      "cell_type": "code",
      "source": [
        "#Splitting the data\n",
        "x_train_age, x_test_age, y_train_age, y_test_age = train_test_split(images, age, random_state=42)\n",
        "x_train_gender, x_test_gender, y_train_gender, y_test_gender = train_test_split(images, gender, random_state=42)"
      ],
      "metadata": {
        "id": "RSKLk_7V4hqp"
      },
      "execution_count": 7,
      "outputs": []
    },
    {
      "cell_type": "code",
      "source": [],
      "metadata": {
        "id": "7HIbsjJ1ANav"
      },
      "execution_count": null,
      "outputs": []
    },
    {
      "cell_type": "markdown",
      "source": [
        "### **VGG16**"
      ],
      "metadata": {
        "id": "woyqb3sHANsm"
      }
    },
    {
      "cell_type": "code",
      "source": [
        "from tensorflow.keras.applications.vgg16 import VGG16\n",
        "\n",
        "base_model = VGG16(input_shape = (144, 144, 3), include_top = False, weights = 'imagenet')"
      ],
      "metadata": {
        "colab": {
          "base_uri": "https://localhost:8080/"
        },
        "id": "-i9cAZrO4mMh",
        "outputId": "08ab6202-8fab-4298-b1f4-5bf839b7843f"
      },
      "execution_count": null,
      "outputs": [
        {
          "output_type": "stream",
          "name": "stdout",
          "text": [
            "Downloading data from https://storage.googleapis.com/tensorflow/keras-applications/vgg16/vgg16_weights_tf_dim_ordering_tf_kernels_notop.h5\n",
            "58889256/58889256 [==============================] - 4s 0us/step\n"
          ]
        }
      ]
    },
    {
      "cell_type": "code",
      "source": [
        "for layer in base_model.layers:\n",
        "    layer.trainable = False"
      ],
      "metadata": {
        "id": "bMCuwmX94whW"
      },
      "execution_count": null,
      "outputs": []
    },
    {
      "cell_type": "code",
      "source": [
        "from keras import layers\n",
        "\n",
        "x = layers.Flatten()(base_model.output)\n",
        "\n",
        "# Add a fully connected layer with 512 hidden units and ReLU activation\n",
        "x = layers.Dense(512, activation='relu')(x)\n",
        "\n",
        "# Add a dropout rate of 0.5\n",
        "x = layers.Dropout(0.5)(x)\n",
        "\n",
        "# Add a final sigmoid layer with 1 node for classification output\n",
        "x = layers.Dense(1, activation='sigmoid')(x)\n",
        "\n",
        "gender_vgg16_model = tf.keras.models.Model(base_model.input, x)"
      ],
      "metadata": {
        "id": "chRTZa-Z5Deh"
      },
      "execution_count": null,
      "outputs": []
    },
    {
      "cell_type": "code",
      "source": [
        "gender_vgg16_model.summary()"
      ],
      "metadata": {
        "colab": {
          "base_uri": "https://localhost:8080/"
        },
        "id": "m_D48B675dJN",
        "outputId": "b473075c-1b08-4e2c-af82-a58cb724b32d"
      },
      "execution_count": null,
      "outputs": [
        {
          "output_type": "stream",
          "name": "stdout",
          "text": [
            "Model: \"model\"\n",
            "_________________________________________________________________\n",
            " Layer (type)                Output Shape              Param #   \n",
            "=================================================================\n",
            " input_1 (InputLayer)        [(None, 144, 144, 3)]     0         \n",
            "                                                                 \n",
            " block1_conv1 (Conv2D)       (None, 144, 144, 64)      1792      \n",
            "                                                                 \n",
            " block1_conv2 (Conv2D)       (None, 144, 144, 64)      36928     \n",
            "                                                                 \n",
            " block1_pool (MaxPooling2D)  (None, 72, 72, 64)        0         \n",
            "                                                                 \n",
            " block2_conv1 (Conv2D)       (None, 72, 72, 128)       73856     \n",
            "                                                                 \n",
            " block2_conv2 (Conv2D)       (None, 72, 72, 128)       147584    \n",
            "                                                                 \n",
            " block2_pool (MaxPooling2D)  (None, 36, 36, 128)       0         \n",
            "                                                                 \n",
            " block3_conv1 (Conv2D)       (None, 36, 36, 256)       295168    \n",
            "                                                                 \n",
            " block3_conv2 (Conv2D)       (None, 36, 36, 256)       590080    \n",
            "                                                                 \n",
            " block3_conv3 (Conv2D)       (None, 36, 36, 256)       590080    \n",
            "                                                                 \n",
            " block3_pool (MaxPooling2D)  (None, 18, 18, 256)       0         \n",
            "                                                                 \n",
            " block4_conv1 (Conv2D)       (None, 18, 18, 512)       1180160   \n",
            "                                                                 \n",
            " block4_conv2 (Conv2D)       (None, 18, 18, 512)       2359808   \n",
            "                                                                 \n",
            " block4_conv3 (Conv2D)       (None, 18, 18, 512)       2359808   \n",
            "                                                                 \n",
            " block4_pool (MaxPooling2D)  (None, 9, 9, 512)         0         \n",
            "                                                                 \n",
            " block5_conv1 (Conv2D)       (None, 9, 9, 512)         2359808   \n",
            "                                                                 \n",
            " block5_conv2 (Conv2D)       (None, 9, 9, 512)         2359808   \n",
            "                                                                 \n",
            " block5_conv3 (Conv2D)       (None, 9, 9, 512)         2359808   \n",
            "                                                                 \n",
            " block5_pool (MaxPooling2D)  (None, 4, 4, 512)         0         \n",
            "                                                                 \n",
            " flatten (Flatten)           (None, 8192)              0         \n",
            "                                                                 \n",
            " dense (Dense)               (None, 512)               4194816   \n",
            "                                                                 \n",
            " dropout (Dropout)           (None, 512)               0         \n",
            "                                                                 \n",
            " dense_1 (Dense)             (None, 1)                 513       \n",
            "                                                                 \n",
            "=================================================================\n",
            "Total params: 18,910,017\n",
            "Trainable params: 4,195,329\n",
            "Non-trainable params: 14,714,688\n",
            "_________________________________________________________________\n"
          ]
        }
      ]
    },
    {
      "cell_type": "code",
      "source": [
        "gender_vgg16_model.compile(optimizer = tf.keras.optimizers.RMSprop(learning_rate=0.0001), loss = 'binary_crossentropy',metrics = ['acc'])"
      ],
      "metadata": {
        "id": "aBcb9Onw6Dah"
      },
      "execution_count": null,
      "outputs": []
    },
    {
      "cell_type": "code",
      "source": [
        "gender_vgg16_model_history = gender_vgg16_model.fit(x_train_gender, y_train_gender,validation_data=(x_test_gender, y_test_gender),epochs=50,batch_size=32)"
      ],
      "metadata": {
        "id": "_PG3tTUv6gJh"
      },
      "execution_count": null,
      "outputs": []
    },
    {
      "cell_type": "code",
      "source": [],
      "metadata": {
        "id": "unfQhpzH658W"
      },
      "execution_count": null,
      "outputs": []
    },
    {
      "cell_type": "markdown",
      "source": [
        "### **VGG19**"
      ],
      "metadata": {
        "id": "et_GpCgIApRi"
      }
    },
    {
      "cell_type": "code",
      "source": [
        "from tensorflow.keras.applications.vgg19 import VGG19\n",
        "\n",
        "vgg19_model = VGG19(input_shape = (144, 144, 3), include_top = False, weights = 'imagenet',classes=2)"
      ],
      "metadata": {
        "colab": {
          "base_uri": "https://localhost:8080/"
        },
        "id": "ac3yVkDYAtDz",
        "outputId": "468d695b-d1c5-4a49-d532-31a9c1f5f113"
      },
      "execution_count": null,
      "outputs": [
        {
          "output_type": "stream",
          "name": "stdout",
          "text": [
            "Downloading data from https://storage.googleapis.com/tensorflow/keras-applications/vgg19/vgg19_weights_tf_dim_ordering_tf_kernels_notop.h5\n",
            "80134624/80134624 [==============================] - 3s 0us/step\n"
          ]
        }
      ]
    },
    {
      "cell_type": "code",
      "source": [
        "for layer in vgg19_model.layers:\n",
        "    layer.trainable = False"
      ],
      "metadata": {
        "id": "km4U_SlMBQuN"
      },
      "execution_count": null,
      "outputs": []
    },
    {
      "cell_type": "code",
      "source": [
        "from keras import layers\n",
        "\n",
        "x = layers.Flatten()(vgg19_model.output)\n",
        "\n",
        "# Add a fully connected layer with 128 hidden units and ReLU activation\n",
        "x = layers.Dense(512, activation='relu')(x)\n",
        "\n",
        "# Add a dropout rate of 0.5\n",
        "x = layers.Dropout(0.3)(x)\n",
        "\n",
        "# Add a final sigmoid layer with 1 node for classification output\n",
        "x = layers.Dense(1, activation='sigmoid')(x)\n",
        "\n",
        "gender_vgg19_model = tf.keras.models.Model(vgg19_model.input, x)"
      ],
      "metadata": {
        "id": "NLTU6AQABbUj"
      },
      "execution_count": null,
      "outputs": []
    },
    {
      "cell_type": "code",
      "source": [
        "gender_vgg19_model.summary()"
      ],
      "metadata": {
        "id": "5HNp-gyeBpjA"
      },
      "execution_count": null,
      "outputs": []
    },
    {
      "cell_type": "code",
      "source": [
        "gender_vgg19_model.compile(optimizer = tf.keras.optimizers.Adam(epsilon=1e-07), loss = 'binary_crossentropy',metrics = ['acc'])"
      ],
      "metadata": {
        "id": "PsgEf74OBv6z"
      },
      "execution_count": null,
      "outputs": []
    },
    {
      "cell_type": "code",
      "source": [
        "gender_vgg19_model_history = gender_vgg19_model.fit(x_train_gender, y_train_gender,validation_data=(x_test_gender, y_test_gender),epochs=20,batch_size=32)"
      ],
      "metadata": {
        "colab": {
          "base_uri": "https://localhost:8080/"
        },
        "id": "GfMv9VJPCIC7",
        "outputId": "122b09b4-824b-4c21-87db-63e127443191"
      },
      "execution_count": null,
      "outputs": [
        {
          "output_type": "stream",
          "name": "stdout",
          "text": [
            "Epoch 1/20\n",
            "556/556 [==============================] - 105s 120ms/step - loss: 1.0013 - acc: 0.8171 - val_loss: 0.3469 - val_acc: 0.8552\n",
            "Epoch 2/20\n",
            "556/556 [==============================] - 65s 118ms/step - loss: 0.3144 - acc: 0.8667 - val_loss: 0.3034 - val_acc: 0.8679\n",
            "Epoch 3/20\n",
            "556/556 [==============================] - 65s 117ms/step - loss: 0.2783 - acc: 0.8838 - val_loss: 0.2978 - val_acc: 0.8669\n",
            "Epoch 4/20\n",
            "556/556 [==============================] - 65s 118ms/step - loss: 0.2383 - acc: 0.8976 - val_loss: 0.3262 - val_acc: 0.8672\n",
            "Epoch 5/20\n",
            "556/556 [==============================] - 65s 118ms/step - loss: 0.2104 - acc: 0.9102 - val_loss: 0.3127 - val_acc: 0.8736\n",
            "Epoch 6/20\n",
            "556/556 [==============================] - 65s 118ms/step - loss: 0.1974 - acc: 0.9165 - val_loss: 0.3231 - val_acc: 0.8723\n",
            "Epoch 7/20\n",
            "556/556 [==============================] - 65s 118ms/step - loss: 0.1802 - acc: 0.9234 - val_loss: 0.3839 - val_acc: 0.8692\n",
            "Epoch 8/20\n",
            "556/556 [==============================] - 60s 108ms/step - loss: 0.1593 - acc: 0.9317 - val_loss: 0.3758 - val_acc: 0.8741\n",
            "Epoch 9/20\n",
            "556/556 [==============================] - 65s 118ms/step - loss: 0.1564 - acc: 0.9343 - val_loss: 0.3976 - val_acc: 0.8706\n",
            "Epoch 10/20\n",
            "556/556 [==============================] - 66s 118ms/step - loss: 0.1438 - acc: 0.9396 - val_loss: 0.4211 - val_acc: 0.8642\n",
            "Epoch 11/20\n",
            "556/556 [==============================] - 65s 118ms/step - loss: 0.1285 - acc: 0.9433 - val_loss: 0.4342 - val_acc: 0.8750\n",
            "Epoch 12/20\n",
            "556/556 [==============================] - 60s 108ms/step - loss: 0.1247 - acc: 0.9467 - val_loss: 0.5428 - val_acc: 0.8655\n",
            "Epoch 13/20\n",
            "556/556 [==============================] - 60s 108ms/step - loss: 0.1188 - acc: 0.9471 - val_loss: 0.4870 - val_acc: 0.8730\n",
            "Epoch 14/20\n",
            "556/556 [==============================] - 66s 118ms/step - loss: 0.1104 - acc: 0.9516 - val_loss: 0.5130 - val_acc: 0.8713\n",
            "Epoch 15/20\n",
            "556/556 [==============================] - 65s 118ms/step - loss: 0.1115 - acc: 0.9521 - val_loss: 0.4819 - val_acc: 0.8692\n",
            "Epoch 16/20\n",
            "556/556 [==============================] - 60s 107ms/step - loss: 0.1050 - acc: 0.9539 - val_loss: 0.4646 - val_acc: 0.8730\n",
            "Epoch 17/20\n",
            "556/556 [==============================] - 65s 117ms/step - loss: 0.0907 - acc: 0.9589 - val_loss: 0.6309 - val_acc: 0.8682\n",
            "Epoch 18/20\n",
            "556/556 [==============================] - 66s 118ms/step - loss: 0.0884 - acc: 0.9593 - val_loss: 0.5578 - val_acc: 0.8699\n",
            "Epoch 19/20\n",
            "556/556 [==============================] - 65s 117ms/step - loss: 0.0992 - acc: 0.9575 - val_loss: 0.5099 - val_acc: 0.8704\n",
            "Epoch 20/20\n",
            "556/556 [==============================] - 65s 118ms/step - loss: 0.0916 - acc: 0.9610 - val_loss: 0.6453 - val_acc: 0.8689\n"
          ]
        }
      ]
    },
    {
      "cell_type": "code",
      "source": [],
      "metadata": {
        "id": "MkK5akfzCSXt"
      },
      "execution_count": null,
      "outputs": []
    },
    {
      "cell_type": "markdown",
      "source": [
        "### **RESNET 50**"
      ],
      "metadata": {
        "id": "nGoCsd6kJEBE"
      }
    },
    {
      "cell_type": "code",
      "source": [
        "from tensorflow.keras.applications.resnet50 import ResNet50\n",
        "\n",
        "resnet_50_model = ResNet50(input_shape = (144, 144, 3), include_top = False, weights = 'imagenet',classes=2)"
      ],
      "metadata": {
        "colab": {
          "base_uri": "https://localhost:8080/"
        },
        "id": "prPP0gHFJN33",
        "outputId": "d23f65d7-e002-498e-99ed-a20cd1c41c44"
      },
      "execution_count": 9,
      "outputs": [
        {
          "output_type": "stream",
          "name": "stdout",
          "text": [
            "Downloading data from https://storage.googleapis.com/tensorflow/keras-applications/resnet/resnet50_weights_tf_dim_ordering_tf_kernels_notop.h5\n",
            "94765736/94765736 [==============================] - 3s 0us/step\n"
          ]
        }
      ]
    },
    {
      "cell_type": "code",
      "source": [
        "for layer in resnet_50_model.layers:\n",
        "    layer.trainable = False"
      ],
      "metadata": {
        "id": "pjUcoTe5JqA-"
      },
      "execution_count": 10,
      "outputs": []
    },
    {
      "cell_type": "code",
      "source": [
        "from keras import layers\n",
        "\n",
        "x = layers.Flatten()(resnet_50_model.output)\n",
        "\n",
        "# Add a fully connected layer with 128 hidden units and ReLU activation\n",
        "x = layers.Dense(512, activation='relu')(x)\n",
        "\n",
        "# Add a dropout rate of 0.5\n",
        "x = layers.Dropout(0.3)(x)\n",
        "\n",
        "# Add a final sigmoid layer with 1 node for classification output\n",
        "x = layers.Dense(1, activation='sigmoid')(x)\n",
        "\n",
        "gender_resnet_50_model = tf.keras.models.Model(resnet_50_model.input, x)"
      ],
      "metadata": {
        "id": "09l2JNSGJ6-j"
      },
      "execution_count": 11,
      "outputs": []
    },
    {
      "cell_type": "code",
      "source": [
        "gender_resnet_50_model.summary()"
      ],
      "metadata": {
        "id": "rfpVDIFlKErB"
      },
      "execution_count": null,
      "outputs": []
    },
    {
      "cell_type": "code",
      "source": [
        "from tensorflow.keras.utils import plot_model\n",
        "\n",
        "plot_model(gender_resnet_50_model)"
      ],
      "metadata": {
        "id": "Hj1I6AdVKJjl"
      },
      "execution_count": null,
      "outputs": []
    },
    {
      "cell_type": "code",
      "source": [
        "gender_resnet_50_model.compile(optimizer = tf.keras.optimizers.Adam(epsilon=1e-07), loss = 'binary_crossentropy',metrics = ['acc'])"
      ],
      "metadata": {
        "id": "ExEmesr8KLsA"
      },
      "execution_count": 18,
      "outputs": []
    },
    {
      "cell_type": "code",
      "source": [
        "gender_resnet_50_model_history = gender_resnet_50_model.fit(x_train_gender, y_train_gender,validation_data=(x_test_gender, y_test_gender),epochs=7,batch_size=60)"
      ],
      "metadata": {
        "colab": {
          "base_uri": "https://localhost:8080/"
        },
        "id": "OHfF3dEBK40W",
        "outputId": "05a5e88d-f48a-4438-9fab-56a41eb9f89f"
      },
      "execution_count": 19,
      "outputs": [
        {
          "output_type": "stream",
          "name": "stdout",
          "text": [
            "Epoch 1/7\n",
            "297/297 [==============================] - 47s 116ms/step - loss: 0.9387 - acc: 0.8348 - val_loss: 0.2892 - val_acc: 0.8726\n",
            "Epoch 2/7\n",
            "297/297 [==============================] - 34s 116ms/step - loss: 0.2660 - acc: 0.8843 - val_loss: 0.2804 - val_acc: 0.8735\n",
            "Epoch 3/7\n",
            "297/297 [==============================] - 35s 117ms/step - loss: 0.2076 - acc: 0.9097 - val_loss: 0.2767 - val_acc: 0.8873\n",
            "Epoch 4/7\n",
            "297/297 [==============================] - 35s 117ms/step - loss: 0.1736 - acc: 0.9284 - val_loss: 0.3032 - val_acc: 0.8875\n",
            "Epoch 5/7\n",
            "297/297 [==============================] - 35s 118ms/step - loss: 0.1468 - acc: 0.9393 - val_loss: 0.3228 - val_acc: 0.8800\n",
            "Epoch 6/7\n",
            "297/297 [==============================] - 35s 118ms/step - loss: 0.1215 - acc: 0.9541 - val_loss: 0.3190 - val_acc: 0.8978\n",
            "Epoch 7/7\n",
            "297/297 [==============================] - 35s 118ms/step - loss: 0.1068 - acc: 0.9578 - val_loss: 0.3063 - val_acc: 0.8910\n"
          ]
        }
      ]
    },
    {
      "cell_type": "code",
      "source": [],
      "metadata": {
        "id": "FNXnPoG-NX5Z"
      },
      "execution_count": null,
      "outputs": []
    },
    {
      "cell_type": "code",
      "source": [
        "loss = gender_resnet_50_model_history.history['loss'] # loss plot for gender prediction model \n",
        "val_loss = gender_resnet_50_model_history.history['val_loss']\n",
        "epochs = range(1, len(loss) + 1)\n",
        "plt.plot(epochs, loss, 'y', label='Training loss')\n",
        "plt.plot(epochs, val_loss, 'r', label='Validation loss')\n",
        "plt.title('Training and validation loss')\n",
        "plt.xlabel('Epochs')\n",
        "plt.ylabel('Loss')\n",
        "plt.legend()\n",
        "plt.show()"
      ],
      "metadata": {
        "colab": {
          "base_uri": "https://localhost:8080/",
          "height": 472
        },
        "id": "9M-wyp14NXwZ",
        "outputId": "2076a58d-34b1-4543-dece-ac77bc50c6f4"
      },
      "execution_count": 23,
      "outputs": [
        {
          "output_type": "display_data",
          "data": {
            "text/plain": [
              "<Figure size 640x480 with 1 Axes>"
            ],
            "image/png": "[encoded data removed]"
          },
          "metadata": {}
        }
      ]
    },
    {
      "cell_type": "code",
      "source": [
        "acc = gender_resnet_50_model_history.history['acc'] # accuracy plot training vs validation accuracy for gender prediction model.\n",
        "#acc = history.history['accuracy']\n",
        "val_acc = gender_resnet_50_model_history.history['val_acc']\n",
        "#val_acc = history.history['val_accuracy']\n",
        "\n",
        "plt.plot(epochs, acc, 'y', label='Training acc')\n",
        "plt.plot(epochs, val_acc, 'r', label='Validation acc')\n",
        "plt.title('Training and validation accuracy')\n",
        "plt.xlabel('Epochs')\n",
        "plt.ylabel('Accuracy')\n",
        "plt.legend()\n",
        "plt.show()"
      ],
      "metadata": {
        "colab": {
          "base_uri": "https://localhost:8080/",
          "height": 472
        },
        "id": "SQX7dK7iLD6k",
        "outputId": "e89148dd-ad4e-459c-f238-db076cdca224"
      },
      "execution_count": 24,
      "outputs": [
        {
          "output_type": "display_data",
          "data": {
            "text/plain": [
              "<Figure size 640x480 with 1 Axes>"
            ],
            "image/png": "[encoded data removed]"
          },
          "metadata": {}
        }
      ]
    },
    {
      "cell_type": "code",
      "source": [
        "predictions = gender_resnet_50_model.predict(x_test_gender)\n",
        "y_pred = (predictions>= 0.5).astype(int)[:,0]\n",
        "\n",
        "from sklearn import metrics\n",
        "print (\"Accuracy = \", metrics.accuracy_score(y_test_gender, y_pred))\n",
        "     "
      ],
      "metadata": {
        "colab": {
          "base_uri": "https://localhost:8080/"
        },
        "id": "EUz2Wv-KM6gA",
        "outputId": "9a76d4e1-72b0-422a-d0ea-2f61708ec50b"
      },
      "execution_count": 25,
      "outputs": [
        {
          "output_type": "stream",
          "name": "stdout",
          "text": [
            "186/186 [==============================] - 10s 43ms/step\n",
            "Accuracy =  0.8910072549350431\n"
          ]
        }
      ]
    },
    {
      "cell_type": "code",
      "source": [
        "\n",
        "#Confusion Matrix - verify accuracy of each class\n",
        "from sklearn.metrics import confusion_matrix\n",
        "import seaborn as sns\n",
        "cm=confusion_matrix(y_test_gender, y_pred)  \n",
        "sns.heatmap(cm, annot=True)"
      ],
      "metadata": {
        "colab": {
          "base_uri": "https://localhost:8080/",
          "height": 447
        },
        "id": "IHT9UsAGNxpS",
        "outputId": "72910180-0ad7-4e18-be28-9b78da35a54e"
      },
      "execution_count": 26,
      "outputs": [
        {
          "output_type": "execute_result",
          "data": {
            "text/plain": [
              "<Axes: >"
            ]
          },
          "metadata": {},
          "execution_count": 26
        },
        {
          "output_type": "display_data",
          "data": {
            "text/plain": [
              "<Figure size 640x480 with 2 Axes>"
            ],
            "image/png": "[encoded data removed]"
          },
          "metadata": {}
        }
      ]
    },
    {
      "cell_type": "code",
      "source": [],
      "metadata": {
        "id": "jM2iyz5zN3jt"
      },
      "execution_count": null,
      "outputs": []
    }
  ]
}